{
 "cells": [
  {
   "cell_type": "markdown",
   "metadata": {},
   "source": [
    "Try below changes to improve the performance.\n",
    "\n",
    "1. Change the number of Epochs.\n",
    "\n",
    "2. Change the batch size Large or Small.\n",
    "\n",
    "3. Change the number of Model in hidden layers.\n",
    "\n",
    "4. Change the number of Layers.\n",
    "\n",
    "5. Change the activation Function from ReLU to something else.\n",
    "\n",
    "6. Add a regularization function such as dropout or Batch normalization.\n"
   ]
  },
  {
   "cell_type": "code",
   "execution_count": 3,
   "metadata": {},
   "outputs": [],
   "source": [
    "#Import dataset\n",
    "\n",
    "import math\n",
    "import numpy as np\n",
    "import chainer\n",
    "from chainer import backend\n",
    "from chainer import backends\n",
    "from chainer.backends import cuda\n",
    "from chainer import Function, FunctionNode, gradient_check, report, training, utils, Variable\n",
    "from chainer import datasets, initializers, iterators, optimizers, serializers\n",
    "from chainer import Link, Chain, ChainList\n",
    "import chainer.functions as F\n",
    "import chainer.links as L\n",
    "from chainer.training import extensions"
   ]
  },
  {
   "cell_type": "code",
   "execution_count": 6,
   "metadata": {},
   "outputs": [
    {
     "name": "stdout",
     "output_type": "stream",
     "text": [
      "label :  5\n"
     ]
    }
   ],
   "source": [
    "#Prepare the DATASET \n",
    "from __future__ import print_function\n",
    "import matplotlib.pyplot as plt\n",
    "from chainer.datasets import mnist\n",
    "\n",
    "#Download the MNIST data\n",
    "train, test = mnist.get_mnist(withlabel=True, ndim=1)\n",
    "\n",
    "#Display example from MNIST \n",
    "#'x' contains the input image array and 't' contains that target class\n",
    "x, t = train[0]\n",
    "plt.imshow(x.reshape(28, 28), cmap='gray')\n",
    "plt.savefig('input.png')\n",
    "print('label : ', t)"
   ]
  },
  {
   "cell_type": "code",
   "execution_count": 3,
   "metadata": {},
   "outputs": [],
   "source": [
    "#Create a dataset Iterator\n",
    "\n",
    "from chainer import iterators\n",
    "#choose the minibatch size\n",
    "batchsize = 128\n",
    "\n",
    "train_iter = iterators.SerialIterator(train, batchsize)\n",
    "test_iter = iterators.SerialIterator(test, batchsize, repeat=False, shuffle=False)\n"
   ]
  },
  {
   "cell_type": "markdown",
   "metadata": {},
   "source": [
    "### Create your network as a subclass of Chain\n"
   ]
  },
  {
   "cell_type": "code",
   "execution_count": 4,
   "metadata": {},
   "outputs": [],
   "source": [
    "class MyNetwork(Chain):\n",
    "    \n",
    "    def __init__(self, n_mid_units = 100, n_out = 10):\n",
    "        super(MyNetwork, self).__init__()\n",
    "        with self.init_scope():\n",
    "            self.l1 = L.Linear(None, n_mid_units)\n",
    "            self.l2 = L.Linear(n_mid_units, n_mid_units)\n",
    "            self.l3 = L.Linear(n_mid_units , n_out)\n",
    "    \n",
    "    def forward(self, x):\n",
    "        h = F.relu(self.l1(x))\n",
    "        h = F.relu(self.l2(h))\n",
    "        return self.l3(h)\n",
    "\n",
    "model = MyNetwork()\n",
    "gpu_id = -1 #Set 0 for GPU\n",
    "\n",
    "if gpu_id >= 0:\n",
    "    model.to_gpu(gpu_id)\n",
    "    "
   ]
  },
  {
   "cell_type": "markdown",
   "metadata": {},
   "source": [
    "### 4. Select an optimization algorithm\n",
    "\n",
    "What is Gradient Descent?\n",
    "Before talking about Stochastic Gradient Descent (SGD), let’s first understand what is Gradient Descent? Gradient Descent is a very popular optimization technique in Machine Learning and Deep Learning and it can be used with most, if not all, of the learning algorithms. A gradient is basically the slope of a function; the degree of change of a parameter with the amount of change in another parameter. Mathematically, it can be described as the partial derivatives of a set of parameters with respect to its inputs. The more the gradient, the steeper the slope. Gradient Descent is a convex function.\n",
    "Gradient Descent can be described as an iterative method which is used to find the values of the parameters of a function that minimizes the cost function as much as possible. The parameters are initially defined a particular value and from that, Gradient Descent is run in an iterative fashion to find the optimal values of the parameters, using calculus, to find the minimum possible value of the given cost function.\n",
    "\n",
    "Types of Gradient Descent:\n",
    "\n",
    "Typically, there are three types of Gradient Descent:\n",
    "\n",
    "1. Batch Gradient Descent\n",
    "2. Stochastic Gradient Descent\n",
    "3. Mini-batch Gradient Descent"
   ]
  },
  {
   "cell_type": "code",
   "execution_count": 7,
   "metadata": {},
   "outputs": [
    {
     "data": {
      "text/plain": [
       "<chainer.optimizers.momentum_sgd.MomentumSGD at 0x114076d9240>"
      ]
     },
     "execution_count": 7,
     "metadata": {},
     "output_type": "execute_result"
    }
   ],
   "source": [
    "from chainer import optimizers\n",
    "# choose an optimizer algorithm\n",
    "optimizer = optimizers.MomentumSGD(lr=0.01, momentum=0.9)\n",
    "#Give the optimizer a referance to the model so, that it can locate the model paramenter\n",
    "optimizer.setup(model)"
   ]
  },
  {
   "cell_type": "markdown",
   "metadata": {},
   "source": [
    "We set 'lr' to 0.01 in the constructor. This value is known as the “learning rate”, one of the most important hyperparameters that need to be adjusted in order to obtain the best performance. "
   ]
  },
  {
   "cell_type": "markdown",
   "metadata": {},
   "source": [
    "### 5. Write a training loop"
   ]
  },
  {
   "cell_type": "code",
   "execution_count": 12,
   "metadata": {},
   "outputs": [
    {
     "name": "stdout",
     "output_type": "stream",
     "text": [
      "epoch:01 train_loss: 0.2307val_loss:0.2607 val_accuracy:0.9257\n",
      "epoch:02 train_loss: 0.2071val_loss:0.1926 val_accuracy:0.9438\n",
      "epoch:03 train_loss: 0.1931val_loss:0.1577 val_accuracy:0.9523\n",
      "epoch:04 train_loss: 0.1625val_loss:0.1293 val_accuracy:0.9605\n",
      "epoch:05 train_loss: 0.0386val_loss:0.1145 val_accuracy:0.9645\n",
      "epoch:06 train_loss: 0.2264val_loss:0.1106 val_accuracy:0.9655\n",
      "epoch:07 train_loss: 0.0499val_loss:0.0942 val_accuracy:0.9710\n",
      "epoch:08 train_loss: 0.0955val_loss:0.0925 val_accuracy:0.9713\n",
      "epoch:09 train_loss: 0.0240val_loss:0.0893 val_accuracy:0.9721\n",
      "epoch:10 train_loss: 0.0825val_loss:0.0874 val_accuracy:0.9728\n"
     ]
    }
   ],
   "source": [
    "from chainer.dataset import concat_examples\n",
    "from chainer.backends.cuda import to_cpu\n",
    "\n",
    "max_epoch = 10\n",
    "\n",
    "while train_iter.epoch < max_epoch:\n",
    "    \n",
    "    #---------one iterator of the tranning loop-----------------\n",
    "    train_batch = train_iter.next()\n",
    "    image_train, target_train = concat_examples(train_batch, gpu_id)\n",
    "    \n",
    "     # Calculate the prediction of the network\n",
    "    prediction_train = model(image_train)\n",
    "    \n",
    "    #Calculate the loss with softmax_cross_entropy\n",
    "    loss = F.softmax_cross_entropy(prediction_train, target_train)\n",
    "    \n",
    "    #Calculate the gradients in the network\n",
    "    model.cleargrads()\n",
    "    loss.backward()\n",
    "    \n",
    "    #Update all the trainable parameters\n",
    "    optimizer.update()\n",
    "    \n",
    "    #Check the validation accuracy after every epoch\n",
    "    if train_iter.is_new_epoch: # If this iteration is the final iteration of the current epoch\n",
    "        #Display the tranning loss\n",
    "        print('epoch:{:02d} train_loss: {:.04f}'.format(train_iter.epoch, float(to_cpu(loss.array))), end='')\n",
    "        \n",
    "        test_losses = []\n",
    "        test_accuracies = []\n",
    "        for test_batch in test_iter:\n",
    "            image_test, target_test = concat_examples(test_batch, gpu_id)\n",
    "            # Forward the test data\n",
    "            prediction_test = model(image_test)\n",
    "\n",
    "            # Calculate the loss\n",
    "            loss_test = F.softmax_cross_entropy(prediction_test, target_test)\n",
    "            test_losses.append(to_cpu(loss_test.array))\n",
    "\n",
    "            # Calculate the accuracy\n",
    "            accuracy = F.accuracy(prediction_test, target_test)\n",
    "            accuracy.to_cpu()\n",
    "            test_accuracies.append(accuracy.array)\n",
    "\n",
    "        test_iter.reset()\n",
    "\n",
    "        print('val_loss:{:.04f} val_accuracy:{:.04f}'.format(\n",
    "            np.mean(test_losses), np.mean(test_accuracies)))\n",
    "            "
   ]
  },
  {
   "cell_type": "markdown",
   "metadata": {},
   "source": [
    "### 6. Save the trained model\n",
    "Chainer provides two types of serializers that can be used to save and restore model state. One supports the HDF5 format and the other supports the NumPy NPZ format. For this example, we are going to use the NPZ format to save our model since it is easy to use with NumPy and doesn’t need to install any additional dependencies or libraries."
   ]
  },
  {
   "cell_type": "code",
   "execution_count": 13,
   "metadata": {},
   "outputs": [],
   "source": [
    "serializers.save_npz('my_mnist_model.model', model)"
   ]
  },
  {
   "cell_type": "markdown",
   "metadata": {},
   "source": [
    "### 7. Perform classification by the saved model\n",
    "Let’s use the saved model to classify a new image. In order to load the trained model parameters, we need to perform the following two steps:\n",
    "\n",
    "1. Instantiate the same network as what you trained.\n",
    "\n",
    "2. Overwrite all parameters in the model instance with the saved weights using the load_npz() function."
   ]
  },
  {
   "cell_type": "code",
   "execution_count": 8,
   "metadata": {},
   "outputs": [
    {
     "data": {
      "image/png": "[encoded data removed]",
      "text/plain": [
       "<Figure size 432x288 with 1 Axes>"
      ]
     },
     "metadata": {
      "needs_background": "light"
     },
     "output_type": "display_data"
    },
    {
     "name": "stdout",
     "output_type": "stream",
     "text": [
      "Label :  7\n"
     ]
    }
   ],
   "source": [
    "from chainer import serializers\n",
    "\n",
    "#Create an instance of the network you trained\n",
    "model = MyNetwork()\n",
    "\n",
    "#Load the saved paramenter into instance\n",
    "serializers.load_npz('my_mnist_model.model', model)\n",
    "\n",
    "#Get a test image and label\n",
    "x, t = test[80]\n",
    "plt.imshow(x.reshape(28, 28), cmap='gray')\n",
    "plt.show()\n",
    "print('Label : ',t)"
   ]
  },
  {
   "cell_type": "code",
   "execution_count": 2,
   "metadata": {},
   "outputs": [
    {
     "name": "stdout",
     "output_type": "stream",
     "text": [
      "Help on LocalConfig in module chainer.configuration object:\n",
      "\n",
      "class LocalConfig(builtins.object)\n",
      " |  LocalConfig(global_config)\n",
      " |  \n",
      " |  Thread-local configuration of Chainer.\n",
      " |  \n",
      " |  This class implements the local configuration. When a value is set to this\n",
      " |  object, the configuration is only updated in the current thread. When a\n",
      " |  user tries to access an attribute and there is no local value, it\n",
      " |  automatically retrieves a value from the global configuration.\n",
      " |  \n",
      " |  Methods defined here:\n",
      " |  \n",
      " |  __delattr__(self, name)\n",
      " |      Implement delattr(self, name).\n",
      " |  \n",
      " |  __getattr__(self, name)\n",
      " |  \n",
      " |  __init__(self, global_config)\n",
      " |      Initialize self.  See help(type(self)) for accurate signature.\n",
      " |  \n",
      " |  __setattr__(self, name, value)\n",
      " |      Implement setattr(self, name, value).\n",
      " |  \n",
      " |  show(self, file=<ipykernel.iostream.OutStream object at 0x00000217740885F8>)\n",
      " |      show(file=sys.stdout)\n",
      " |      \n",
      " |      Prints the config entries.\n",
      " |      \n",
      " |      The entries are sorted in the lexicographical order of the entry names.\n",
      " |      \n",
      " |      Args:\n",
      " |          file: Output file-like object.\n",
      " |      \n",
      " |      .. admonition:: Example\n",
      " |      \n",
      " |         You can easily print the list of configurations used in\n",
      " |         the current thread.\n",
      " |      \n",
      " |            >>> chainer.config.show()  # doctest: +SKIP\n",
      " |            debug           False\n",
      " |            enable_backprop True\n",
      " |            train           True\n",
      " |            type_check      True\n",
      " |  \n",
      " |  ----------------------------------------------------------------------\n",
      " |  Data descriptors defined here:\n",
      " |  \n",
      " |  __dict__\n",
      " |      dictionary for instance variables (if defined)\n",
      " |  \n",
      " |  __weakref__\n",
      " |      list of weak references to the object (if defined)\n",
      "\n"
     ]
    }
   ],
   "source": [
    "import chainer\n",
    "help(chainer.config)"
   ]
  },
  {
   "cell_type": "code",
   "execution_count": 8,
   "metadata": {},
   "outputs": [
    {
     "data": {
      "text/plain": [
       "3"
      ]
     },
     "execution_count": 8,
     "metadata": {},
     "output_type": "execute_result"
    }
   ],
   "source": [
    "a = lambda x : x*x if x<=2 else x\n",
    "a(3)"
   ]
  },
  {
   "cell_type": "code",
   "execution_count": null,
   "metadata": {},
   "outputs": [],
   "source": []
  },
  {
   "cell_type": "code",
   "execution_count": null,
   "metadata": {},
   "outputs": [],
   "source": []
  },
  {
   "cell_type": "code",
   "execution_count": null,
   "metadata": {},
   "outputs": [],
   "source": []
  },
  {
   "cell_type": "code",
   "execution_count": null,
   "metadata": {},
   "outputs": [],
   "source": []
  },
  {
   "cell_type": "code",
   "execution_count": null,
   "metadata": {},
   "outputs": [],
   "source": []
  },
  {
   "cell_type": "code",
   "execution_count": null,
   "metadata": {},
   "outputs": [],
   "source": []
  },
  {
   "cell_type": "code",
   "execution_count": null,
   "metadata": {},
   "outputs": [],
   "source": []
  },
  {
   "cell_type": "code",
   "execution_count": null,
   "metadata": {},
   "outputs": [],
   "source": []
  },
  {
   "cell_type": "code",
   "execution_count": null,
   "metadata": {},
   "outputs": [],
   "source": []
  },
  {
   "cell_type": "code",
   "execution_count": null,
   "metadata": {},
   "outputs": [],
   "source": []
  },
  {
   "cell_type": "code",
   "execution_count": null,
   "metadata": {},
   "outputs": [],
   "source": []
  },
  {
   "cell_type": "code",
   "execution_count": null,
   "metadata": {},
   "outputs": [],
   "source": []
  },
  {
   "cell_type": "code",
   "execution_count": null,
   "metadata": {},
   "outputs": [],
   "source": []
  },
  {
   "cell_type": "code",
   "execution_count": null,
   "metadata": {},
   "outputs": [],
   "source": []
  },
  {
   "cell_type": "code",
   "execution_count": null,
   "metadata": {},
   "outputs": [],
   "source": []
  },
  {
   "cell_type": "code",
   "execution_count": null,
   "metadata": {},
   "outputs": [],
   "source": []
  },
  {
   "cell_type": "code",
   "execution_count": null,
   "metadata": {},
   "outputs": [],
   "source": []
  },
  {
   "cell_type": "code",
   "execution_count": null,
   "metadata": {},
   "outputs": [],
   "source": []
  },
  {
   "cell_type": "code",
   "execution_count": null,
   "metadata": {},
   "outputs": [],
   "source": []
  },
  {
   "cell_type": "code",
   "execution_count": null,
   "metadata": {},
   "outputs": [],
   "source": []
  },
  {
   "cell_type": "code",
   "execution_count": null,
   "metadata": {},
   "outputs": [],
   "source": []
  },
  {
   "cell_type": "code",
   "execution_count": null,
   "metadata": {},
   "outputs": [],
   "source": []
  },
  {
   "cell_type": "code",
   "execution_count": null,
   "metadata": {},
   "outputs": [],
   "source": []
  },
  {
   "cell_type": "code",
   "execution_count": null,
   "metadata": {},
   "outputs": [],
   "source": []
  },
  {
   "cell_type": "code",
   "execution_count": null,
   "metadata": {},
   "outputs": [],
   "source": []
  },
  {
   "cell_type": "code",
   "execution_count": null,
   "metadata": {},
   "outputs": [],
   "source": []
  },
  {
   "cell_type": "code",
   "execution_count": null,
   "metadata": {},
   "outputs": [],
   "source": []
  },
  {
   "cell_type": "code",
   "execution_count": null,
   "metadata": {},
   "outputs": [],
   "source": []
  },
  {
   "cell_type": "code",
   "execution_count": null,
   "metadata": {},
   "outputs": [],
   "source": []
  },
  {
   "cell_type": "code",
   "execution_count": null,
   "metadata": {},
   "outputs": [],
   "source": []
  },
  {
   "cell_type": "code",
   "execution_count": null,
   "metadata": {},
   "outputs": [],
   "source": []
  },
  {
   "cell_type": "code",
   "execution_count": null,
   "metadata": {},
   "outputs": [],
   "source": []
  },
  {
   "cell_type": "code",
   "execution_count": null,
   "metadata": {},
   "outputs": [],
   "source": []
  },
  {
   "cell_type": "code",
   "execution_count": null,
   "metadata": {},
   "outputs": [],
   "source": []
  },
  {
   "cell_type": "code",
   "execution_count": null,
   "metadata": {},
   "outputs": [],
   "source": []
  }
 ],
 "metadata": {
  "kernelspec": {
   "display_name": "Python 3",
   "language": "python",
   "name": "python3"
  },
  "language_info": {
   "codemirror_mode": {
    "name": "ipython",
    "version": 3
   },
   "file_extension": ".py",
   "mimetype": "text/x-python",
   "name": "python",
   "nbconvert_exporter": "python",
   "pygments_lexer": "ipython3",
   "version": "3.7.1"
  }
 },
 "nbformat": 4,
 "nbformat_minor": 2
}
